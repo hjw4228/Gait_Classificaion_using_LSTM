{
 "cells": [
  {
   "cell_type": "markdown",
   "metadata": {},
   "source": [
    "Load necessary modules/libraries"
   ]
  },
  {
   "cell_type": "code",
   "execution_count": 1,
   "metadata": {},
   "outputs": [
    {
     "name": "stderr",
     "output_type": "stream",
     "text": [
      "2023-12-27 16:23:48.708234: I external/local_tsl/tsl/cuda/cudart_stub.cc:31] Could not find cuda drivers on your machine, GPU will not be used.\n",
      "2023-12-27 16:23:48.771429: E external/local_xla/xla/stream_executor/cuda/cuda_dnn.cc:9261] Unable to register cuDNN factory: Attempting to register factory for plugin cuDNN when one has already been registered\n",
      "2023-12-27 16:23:48.771474: E external/local_xla/xla/stream_executor/cuda/cuda_fft.cc:607] Unable to register cuFFT factory: Attempting to register factory for plugin cuFFT when one has already been registered\n",
      "2023-12-27 16:23:48.772615: E external/local_xla/xla/stream_executor/cuda/cuda_blas.cc:1515] Unable to register cuBLAS factory: Attempting to register factory for plugin cuBLAS when one has already been registered\n",
      "2023-12-27 16:23:48.780729: I external/local_tsl/tsl/cuda/cudart_stub.cc:31] Could not find cuda drivers on your machine, GPU will not be used.\n",
      "2023-12-27 16:23:48.782007: I tensorflow/core/platform/cpu_feature_guard.cc:182] This TensorFlow binary is optimized to use available CPU instructions in performance-critical operations.\n",
      "To enable the following instructions: AVX2 FMA, in other operations, rebuild TensorFlow with the appropriate compiler flags.\n",
      "2023-12-27 16:23:50.006490: W tensorflow/compiler/tf2tensorrt/utils/py_utils.cc:38] TF-TRT Warning: Could not find TensorRT\n"
     ]
    }
   ],
   "source": [
    "import keras\n",
    "from keras.layers import LSTM, Dropout, Dense, BatchNormalization\n",
    "from keras.callbacks import EarlyStopping, ModelCheckpoint, ReduceLROnPlateau\n",
    "import matplotlib.pyplot as plt\n",
    "import numpy as np\n",
    "import pandas as pd\n",
    "import os\n",
    "from scipy.stats import zscore"
   ]
  },
  {
   "cell_type": "markdown",
   "metadata": {},
   "source": [
    "Load data from data_training folder (preprocessing required)"
   ]
  },
  {
   "cell_type": "code",
   "execution_count": 2,
   "metadata": {},
   "outputs": [],
   "source": [
    "directory =  'data_training'\n",
    "cols = ['l_left_back','l_left_front','l_right_back','l_right_front','l_distance','r_left_back','r_left_front','r_right_back','r_right_front','r_distance']\n",
    "\n",
    "def load_data(): \n",
    "    X_local = []\n",
    "    y_local = []\n",
    "    \n",
    "    for filename in os.listdir(directory): \n",
    "        f = os.path.join(directory, filename)\n",
    "        data = pd.read_csv(f, usecols=cols)\n",
    "        \n",
    "        # Z-normalization\n",
    "        data.apply(lambda x: x if np.std(x) == 0 else zscore(x))\n",
    "        \n",
    "        data.dropna(inplace=True)\n",
    "        if data.shape != (30, 10): continue\n",
    "        \n",
    "        data.astype('int64')\n",
    "        X_local.append(data.values)\n",
    "        \n",
    "        y_local.append(1 if 'abnormal' in filename else 0)\n",
    "\n",
    "    return np.array(X_local), np.array(y_local)\n",
    "\n",
    "X_seq, y = load_data()"
   ]
  },
  {
   "cell_type": "markdown",
   "metadata": {},
   "source": [
    "Check Data's shape"
   ]
  },
  {
   "cell_type": "code",
   "execution_count": 3,
   "metadata": {},
   "outputs": [
    {
     "data": {
      "text/plain": [
       "((267, 30, 10), (267,))"
      ]
     },
     "execution_count": 3,
     "metadata": {},
     "output_type": "execute_result"
    }
   ],
   "source": [
    "X_seq.shape, y.shape"
   ]
  },
  {
   "cell_type": "markdown",
   "metadata": {},
   "source": [
    "Convert X_seq into Numpy array with type 'int64' to avoid further error"
   ]
  },
  {
   "cell_type": "code",
   "execution_count": 4,
   "metadata": {},
   "outputs": [],
   "source": [
    "X_seq = np.asarray(X_seq).astype('int64')"
   ]
  },
  {
   "cell_type": "markdown",
   "metadata": {},
   "source": [
    "Create model"
   ]
  },
  {
   "cell_type": "code",
   "execution_count": 5,
   "metadata": {},
   "outputs": [
    {
     "name": "stderr",
     "output_type": "stream",
     "text": [
      "2023-12-27 16:23:57.097857: I external/local_xla/xla/stream_executor/cuda/cuda_executor.cc:887] could not open file to read NUMA node: /sys/bus/pci/devices/0000:01:00.0/numa_node\n",
      "Your kernel may have been built without NUMA support.\n",
      "2023-12-27 16:23:57.098678: W tensorflow/core/common_runtime/gpu/gpu_device.cc:2256] Cannot dlopen some GPU libraries. Please make sure the missing libraries mentioned above are installed properly if you would like to use GPU. Follow the guide at https://www.tensorflow.org/install/gpu for how to download and setup the required libraries for your platform.\n",
      "Skipping registering GPU devices...\n"
     ]
    },
    {
     "name": "stdout",
     "output_type": "stream",
     "text": [
      "Model: \"sequential\"\n",
      "_________________________________________________________________\n",
      " Layer (type)                Output Shape              Param #   \n",
      "=================================================================\n",
      " lstm (LSTM)                 (None, 30, 128)           71168     \n",
      "                                                                 \n",
      " batch_normalization (Batch  (None, 30, 128)           512       \n",
      " Normalization)                                                  \n",
      "                                                                 \n",
      " dropout (Dropout)           (None, 30, 128)           0         \n",
      "                                                                 \n",
      " lstm_1 (LSTM)               (None, 64)                49408     \n",
      "                                                                 \n",
      " batch_normalization_1 (Bat  (None, 64)                256       \n",
      " chNormalization)                                                \n",
      "                                                                 \n",
      " dropout_1 (Dropout)         (None, 64)                0         \n",
      "                                                                 \n",
      " dense (Dense)               (None, 16)                1040      \n",
      "                                                                 \n",
      " dropout_2 (Dropout)         (None, 16)                0         \n",
      "                                                                 \n",
      " dense_1 (Dense)             (None, 8)                 136       \n",
      "                                                                 \n",
      " output (Dense)              (None, 1)                 9         \n",
      "                                                                 \n",
      "=================================================================\n",
      "Total params: 122529 (478.63 KB)\n",
      "Trainable params: 122145 (477.13 KB)\n",
      "Non-trainable params: 384 (1.50 KB)\n",
      "_________________________________________________________________\n"
     ]
    }
   ],
   "source": [
    "model = keras.Sequential()\n",
    "model.add(LSTM(128, input_shape=(30, 10), return_sequences=True))\n",
    "model.add(BatchNormalization())\n",
    "model.add(Dropout(0.6))\n",
    "model.add(LSTM(64, return_sequences=False))\n",
    "model.add(BatchNormalization())\n",
    "model.add(Dropout(0.2))\n",
    "model.add(Dense(16, activation='relu'))\n",
    "model.add(Dropout(0.1))\n",
    "model.add(Dense(8, activation='relu'))\n",
    "model.add(Dense(1, activation=\"sigmoid\", name='output'))\n",
    "\n",
    "# Callback function\n",
    "es = EarlyStopping(monitor='val_loss', mode='min', verbose=1, patience=20)\n",
    "mc = ModelCheckpoint('best_model.h5',monitor='val_binary_accuracy', mode='max', verbose=1, save_best_only=True)\n",
    "rlr = ReduceLROnPlateau(monitor='val_loss', factor=0.1, patience=5)\n",
    "\n",
    "model.compile(loss=\"binary_crossentropy\", metrics=[keras.metrics.binary_accuracy], optimizer=\"adam\")\n",
    "\n",
    "model.summary()"
   ]
  },
  {
   "cell_type": "code",
   "execution_count": 6,
   "metadata": {},
   "outputs": [
    {
     "data": {
      "image/png": "[encoded data removed]",
      "text/plain": [
       "<IPython.core.display.Image object>"
      ]
     },
     "execution_count": 6,
     "metadata": {},
     "output_type": "execute_result"
    }
   ],
   "source": [
    "keras.utils.plot_model(model, to_file='model.png')"
   ]
  },
  {
   "cell_type": "markdown",
   "metadata": {},
   "source": [
    "Create training set"
   ]
  },
  {
   "cell_type": "code",
   "execution_count": 7,
   "metadata": {},
   "outputs": [],
   "source": [
    "from sklearn.model_selection import train_test_split\n",
    "X_train, X_test, y_train, y_test = train_test_split(X_seq, y, test_size=0.2, random_state=3141592)"
   ]
  },
  {
   "cell_type": "markdown",
   "metadata": {},
   "source": [
    "Fit model"
   ]
  },
  {
   "cell_type": "code",
   "execution_count": 8,
   "metadata": {},
   "outputs": [
    {
     "name": "stdout",
     "output_type": "stream",
     "text": [
      "Epoch 1/30\n",
      "4/4 [==============================] - ETA: 0s - loss: 0.7358 - binary_accuracy: 0.4648\n",
      "Epoch 1: val_binary_accuracy improved from -inf to 0.51852, saving model to best_model.h5\n",
      "4/4 [==============================] - 5s 374ms/step - loss: 0.7358 - binary_accuracy: 0.4648 - val_loss: 0.6939 - val_binary_accuracy: 0.5185 - lr: 0.0010\n",
      "Epoch 2/30\n",
      "1/4 [======>.......................] - ETA: 0s - loss: 0.7082 - binary_accuracy: 0.5156"
     ]
    },
    {
     "name": "stderr",
     "output_type": "stream",
     "text": [
      "/home/cubem10/.local/lib/python3.10/site-packages/keras/src/engine/training.py:3103: UserWarning: You are saving your model as an HDF5 file via `model.save()`. This file format is considered legacy. We recommend using instead the native Keras format, e.g. `model.save('my_model.keras')`.\n",
      "  saving_api.save_model(\n"
     ]
    },
    {
     "name": "stdout",
     "output_type": "stream",
     "text": [
      "4/4 [==============================] - ETA: 0s - loss: 0.6849 - binary_accuracy: 0.5258\n",
      "Epoch 2: val_binary_accuracy improved from 0.51852 to 0.64815, saving model to best_model.h5\n",
      "4/4 [==============================] - 0s 102ms/step - loss: 0.6849 - binary_accuracy: 0.5258 - val_loss: 0.6825 - val_binary_accuracy: 0.6481 - lr: 0.0010\n",
      "Epoch 3/30\n",
      "4/4 [==============================] - ETA: 0s - loss: 0.6727 - binary_accuracy: 0.5962\n",
      "Epoch 3: val_binary_accuracy improved from 0.64815 to 0.72222, saving model to best_model.h5\n",
      "4/4 [==============================] - 0s 98ms/step - loss: 0.6727 - binary_accuracy: 0.5962 - val_loss: 0.6783 - val_binary_accuracy: 0.7222 - lr: 0.0010\n",
      "Epoch 4/30\n",
      "4/4 [==============================] - ETA: 0s - loss: 0.6181 - binary_accuracy: 0.6432\n",
      "Epoch 4: val_binary_accuracy did not improve from 0.72222\n",
      "4/4 [==============================] - 0s 84ms/step - loss: 0.6181 - binary_accuracy: 0.6432 - val_loss: 0.6695 - val_binary_accuracy: 0.6852 - lr: 0.0010\n",
      "Epoch 5/30\n",
      "4/4 [==============================] - ETA: 0s - loss: 0.6147 - binary_accuracy: 0.6714\n",
      "Epoch 5: val_binary_accuracy did not improve from 0.72222\n",
      "4/4 [==============================] - 0s 85ms/step - loss: 0.6147 - binary_accuracy: 0.6714 - val_loss: 0.6589 - val_binary_accuracy: 0.6852 - lr: 0.0010\n",
      "Epoch 6/30\n",
      "4/4 [==============================] - ETA: 0s - loss: 0.5939 - binary_accuracy: 0.6948\n",
      "Epoch 6: val_binary_accuracy did not improve from 0.72222\n",
      "4/4 [==============================] - 0s 86ms/step - loss: 0.5939 - binary_accuracy: 0.6948 - val_loss: 0.6439 - val_binary_accuracy: 0.7222 - lr: 0.0010\n",
      "Epoch 7/30\n",
      "4/4 [==============================] - ETA: 0s - loss: 0.5883 - binary_accuracy: 0.7042\n",
      "Epoch 7: val_binary_accuracy did not improve from 0.72222\n",
      "4/4 [==============================] - 0s 88ms/step - loss: 0.5883 - binary_accuracy: 0.7042 - val_loss: 0.6346 - val_binary_accuracy: 0.7222 - lr: 0.0010\n",
      "Epoch 8/30\n",
      "4/4 [==============================] - ETA: 0s - loss: 0.5241 - binary_accuracy: 0.7793\n",
      "Epoch 8: val_binary_accuracy did not improve from 0.72222\n",
      "4/4 [==============================] - 0s 86ms/step - loss: 0.5241 - binary_accuracy: 0.7793 - val_loss: 0.6257 - val_binary_accuracy: 0.7222 - lr: 0.0010\n",
      "Epoch 9/30\n",
      "4/4 [==============================] - ETA: 0s - loss: 0.5231 - binary_accuracy: 0.7840\n",
      "Epoch 9: val_binary_accuracy improved from 0.72222 to 0.74074, saving model to best_model.h5\n",
      "4/4 [==============================] - 0s 103ms/step - loss: 0.5231 - binary_accuracy: 0.7840 - val_loss: 0.6135 - val_binary_accuracy: 0.7407 - lr: 0.0010\n",
      "Epoch 10/30\n",
      "4/4 [==============================] - ETA: 0s - loss: 0.5139 - binary_accuracy: 0.7934\n",
      "Epoch 10: val_binary_accuracy improved from 0.74074 to 0.77778, saving model to best_model.h5\n",
      "4/4 [==============================] - 0s 103ms/step - loss: 0.5139 - binary_accuracy: 0.7934 - val_loss: 0.5982 - val_binary_accuracy: 0.7778 - lr: 0.0010\n",
      "Epoch 11/30\n",
      "4/4 [==============================] - ETA: 0s - loss: 0.4895 - binary_accuracy: 0.7793\n",
      "Epoch 11: val_binary_accuracy did not improve from 0.77778\n",
      "4/4 [==============================] - 0s 97ms/step - loss: 0.4895 - binary_accuracy: 0.7793 - val_loss: 0.5868 - val_binary_accuracy: 0.7407 - lr: 0.0010\n",
      "Epoch 12/30\n",
      "4/4 [==============================] - ETA: 0s - loss: 0.5230 - binary_accuracy: 0.7371\n",
      "Epoch 12: val_binary_accuracy did not improve from 0.77778\n",
      "4/4 [==============================] - 0s 83ms/step - loss: 0.5230 - binary_accuracy: 0.7371 - val_loss: 0.5742 - val_binary_accuracy: 0.7593 - lr: 0.0010\n",
      "Epoch 13/30\n",
      "4/4 [==============================] - ETA: 0s - loss: 0.4834 - binary_accuracy: 0.7559\n",
      "Epoch 13: val_binary_accuracy did not improve from 0.77778\n",
      "4/4 [==============================] - 0s 84ms/step - loss: 0.4834 - binary_accuracy: 0.7559 - val_loss: 0.5625 - val_binary_accuracy: 0.7593 - lr: 0.0010\n",
      "Epoch 14/30\n",
      "4/4 [==============================] - ETA: 0s - loss: 0.4285 - binary_accuracy: 0.8310\n",
      "Epoch 14: val_binary_accuracy did not improve from 0.77778\n",
      "4/4 [==============================] - 0s 88ms/step - loss: 0.4285 - binary_accuracy: 0.8310 - val_loss: 0.5497 - val_binary_accuracy: 0.7778 - lr: 0.0010\n",
      "Epoch 15/30\n",
      "4/4 [==============================] - ETA: 0s - loss: 0.4480 - binary_accuracy: 0.8310\n",
      "Epoch 15: val_binary_accuracy did not improve from 0.77778\n",
      "4/4 [==============================] - 0s 84ms/step - loss: 0.4480 - binary_accuracy: 0.8310 - val_loss: 0.5364 - val_binary_accuracy: 0.7778 - lr: 0.0010\n",
      "Epoch 16/30\n",
      "4/4 [==============================] - ETA: 0s - loss: 0.3923 - binary_accuracy: 0.8498\n",
      "Epoch 16: val_binary_accuracy improved from 0.77778 to 0.81481, saving model to best_model.h5\n",
      "4/4 [==============================] - 0s 97ms/step - loss: 0.3923 - binary_accuracy: 0.8498 - val_loss: 0.5320 - val_binary_accuracy: 0.8148 - lr: 0.0010\n",
      "Epoch 17/30\n",
      "4/4 [==============================] - ETA: 0s - loss: 0.3789 - binary_accuracy: 0.8779\n",
      "Epoch 17: val_binary_accuracy did not improve from 0.81481\n",
      "4/4 [==============================] - 0s 85ms/step - loss: 0.3789 - binary_accuracy: 0.8779 - val_loss: 0.5128 - val_binary_accuracy: 0.8148 - lr: 0.0010\n",
      "Epoch 18/30\n",
      "4/4 [==============================] - ETA: 0s - loss: 0.3891 - binary_accuracy: 0.8404\n",
      "Epoch 18: val_binary_accuracy improved from 0.81481 to 0.83333, saving model to best_model.h5\n",
      "4/4 [==============================] - 0s 102ms/step - loss: 0.3891 - binary_accuracy: 0.8404 - val_loss: 0.4891 - val_binary_accuracy: 0.8333 - lr: 0.0010\n",
      "Epoch 19/30\n",
      "4/4 [==============================] - ETA: 0s - loss: 0.3429 - binary_accuracy: 0.8779\n",
      "Epoch 19: val_binary_accuracy improved from 0.83333 to 0.87037, saving model to best_model.h5\n",
      "4/4 [==============================] - 0s 97ms/step - loss: 0.3429 - binary_accuracy: 0.8779 - val_loss: 0.4745 - val_binary_accuracy: 0.8704 - lr: 0.0010\n",
      "Epoch 20/30\n",
      "4/4 [==============================] - ETA: 0s - loss: 0.2996 - binary_accuracy: 0.8638\n",
      "Epoch 20: val_binary_accuracy did not improve from 0.87037\n",
      "4/4 [==============================] - 0s 87ms/step - loss: 0.2996 - binary_accuracy: 0.8638 - val_loss: 0.4534 - val_binary_accuracy: 0.8519 - lr: 0.0010\n",
      "Epoch 21/30\n",
      "4/4 [==============================] - ETA: 0s - loss: 0.2841 - binary_accuracy: 0.9155\n",
      "Epoch 21: val_binary_accuracy did not improve from 0.87037\n",
      "4/4 [==============================] - 0s 100ms/step - loss: 0.2841 - binary_accuracy: 0.9155 - val_loss: 0.4221 - val_binary_accuracy: 0.8519 - lr: 0.0010\n",
      "Epoch 22/30\n",
      "4/4 [==============================] - ETA: 0s - loss: 0.2541 - binary_accuracy: 0.9249\n",
      "Epoch 22: val_binary_accuracy improved from 0.87037 to 0.88889, saving model to best_model.h5\n",
      "4/4 [==============================] - 0s 105ms/step - loss: 0.2541 - binary_accuracy: 0.9249 - val_loss: 0.3683 - val_binary_accuracy: 0.8889 - lr: 0.0010\n",
      "Epoch 23/30\n",
      "4/4 [==============================] - ETA: 0s - loss: 0.2190 - binary_accuracy: 0.9531\n",
      "Epoch 23: val_binary_accuracy did not improve from 0.88889\n",
      "4/4 [==============================] - 0s 85ms/step - loss: 0.2190 - binary_accuracy: 0.9531 - val_loss: 0.3123 - val_binary_accuracy: 0.8889 - lr: 0.0010\n",
      "Epoch 24/30\n",
      "4/4 [==============================] - ETA: 0s - loss: 0.2225 - binary_accuracy: 0.9202\n",
      "Epoch 24: val_binary_accuracy improved from 0.88889 to 0.96296, saving model to best_model.h5\n",
      "4/4 [==============================] - 0s 97ms/step - loss: 0.2225 - binary_accuracy: 0.9202 - val_loss: 0.2410 - val_binary_accuracy: 0.9630 - lr: 0.0010\n",
      "Epoch 25/30\n",
      "4/4 [==============================] - ETA: 0s - loss: 0.1623 - binary_accuracy: 0.9718\n",
      "Epoch 25: val_binary_accuracy improved from 0.96296 to 0.98148, saving model to best_model.h5\n",
      "4/4 [==============================] - 0s 100ms/step - loss: 0.1623 - binary_accuracy: 0.9718 - val_loss: 0.1634 - val_binary_accuracy: 0.9815 - lr: 0.0010\n",
      "Epoch 26/30\n",
      "4/4 [==============================] - ETA: 0s - loss: 0.1502 - binary_accuracy: 0.9671\n",
      "Epoch 26: val_binary_accuracy improved from 0.98148 to 1.00000, saving model to best_model.h5\n",
      "4/4 [==============================] - 0s 102ms/step - loss: 0.1502 - binary_accuracy: 0.9671 - val_loss: 0.1036 - val_binary_accuracy: 1.0000 - lr: 0.0010\n",
      "Epoch 27/30\n",
      "4/4 [==============================] - ETA: 0s - loss: 0.1238 - binary_accuracy: 0.9718\n",
      "Epoch 27: val_binary_accuracy did not improve from 1.00000\n",
      "4/4 [==============================] - 0s 86ms/step - loss: 0.1238 - binary_accuracy: 0.9718 - val_loss: 0.0791 - val_binary_accuracy: 1.0000 - lr: 0.0010\n",
      "Epoch 28/30\n",
      "4/4 [==============================] - ETA: 0s - loss: 0.1219 - binary_accuracy: 0.9671\n",
      "Epoch 28: val_binary_accuracy did not improve from 1.00000\n",
      "4/4 [==============================] - 0s 82ms/step - loss: 0.1219 - binary_accuracy: 0.9671 - val_loss: 0.0569 - val_binary_accuracy: 1.0000 - lr: 0.0010\n",
      "Epoch 29/30\n",
      "4/4 [==============================] - ETA: 0s - loss: 0.0928 - binary_accuracy: 0.9718\n",
      "Epoch 29: val_binary_accuracy did not improve from 1.00000\n",
      "4/4 [==============================] - 0s 85ms/step - loss: 0.0928 - binary_accuracy: 0.9718 - val_loss: 0.0567 - val_binary_accuracy: 0.9815 - lr: 0.0010\n",
      "Epoch 30/30\n",
      "4/4 [==============================] - ETA: 0s - loss: 0.0852 - binary_accuracy: 0.9765\n",
      "Epoch 30: val_binary_accuracy did not improve from 1.00000\n",
      "4/4 [==============================] - 0s 97ms/step - loss: 0.0852 - binary_accuracy: 0.9765 - val_loss: 0.0616 - val_binary_accuracy: 0.9815 - lr: 0.0010\n"
     ]
    }
   ],
   "source": [
    "history = model.fit(X_train, y_train, batch_size=64, epochs=30, callbacks=[mc, es, rlr], validation_data=(X_test, y_test))"
   ]
  },
  {
   "cell_type": "markdown",
   "metadata": {},
   "source": [
    "Evaluate model"
   ]
  },
  {
   "cell_type": "code",
   "execution_count": 9,
   "metadata": {},
   "outputs": [
    {
     "name": "stdout",
     "output_type": "stream",
     "text": [
      "2/2 [==============================] - 0s 21ms/step - loss: 0.0616 - binary_accuracy: 0.9815\n"
     ]
    },
    {
     "data": {
      "text/plain": [
       "[0.061588432639837265, 0.9814814925193787]"
      ]
     },
     "execution_count": 9,
     "metadata": {},
     "output_type": "execute_result"
    }
   ],
   "source": [
    "model.evaluate(X_test, y_test)"
   ]
  },
  {
   "cell_type": "code",
   "execution_count": 10,
   "metadata": {},
   "outputs": [
    {
     "name": "stdout",
     "output_type": "stream",
     "text": [
      "2/2 [==============================] - 1s 18ms/step\n"
     ]
    }
   ],
   "source": [
    "y_test_prob = model.predict(X_test, verbose=1)"
   ]
  },
  {
   "cell_type": "code",
   "execution_count": 11,
   "metadata": {},
   "outputs": [],
   "source": [
    "y_test_pred = np.where(y_test_prob > 0.5, 1, 0)"
   ]
  },
  {
   "cell_type": "code",
   "execution_count": 12,
   "metadata": {},
   "outputs": [],
   "source": [
    "from sklearn.metrics import confusion_matrix\n",
    "from sklearn.metrics import classification_report\n"
   ]
  },
  {
   "cell_type": "code",
   "execution_count": 13,
   "metadata": {},
   "outputs": [
    {
     "data": {
      "text/plain": [
       "array([[30,  1],\n",
       "       [ 0, 23]])"
      ]
     },
     "execution_count": 13,
     "metadata": {},
     "output_type": "execute_result"
    }
   ],
   "source": [
    "confusion_matrix(y_test, y_test_pred)"
   ]
  },
  {
   "cell_type": "code",
   "execution_count": 14,
   "metadata": {},
   "outputs": [
    {
     "name": "stdout",
     "output_type": "stream",
     "text": [
      "              precision    recall  f1-score   support\n",
      "\n",
      "           0       1.00      0.97      0.98        31\n",
      "           1       0.96      1.00      0.98        23\n",
      "\n",
      "    accuracy                           0.98        54\n",
      "   macro avg       0.98      0.98      0.98        54\n",
      "weighted avg       0.98      0.98      0.98        54\n",
      "\n"
     ]
    }
   ],
   "source": [
    "y_pred = (y_test_prob > 0.5).astype('int32')\n",
    "print(classification_report(y_test, y_pred))\n"
   ]
  },
  {
   "cell_type": "code",
   "execution_count": 16,
   "metadata": {},
   "outputs": [
    {
     "data": {
      "image/png": "[encoded data removed]",
      "text/plain": [
       "<Figure size 640x480 with 1 Axes>"
      ]
     },
     "metadata": {},
     "output_type": "display_data"
    }
   ],
   "source": [
    "epochs = range(1, len(history.history['binary_accuracy']) + 1)\n",
    "plt.plot(epochs, history.history['loss'])\n",
    "plt.plot(epochs, history.history['val_loss'])\n",
    "plt.title('model loss')\n",
    "plt.ylabel('loss')\n",
    "plt.xlabel('epoch')\n",
    "plt.legend(['train', 'test'], loc='upper left')\n",
    "plt.show()"
   ]
  }
 ],
 "metadata": {
  "kernelspec": {
   "display_name": "venv-metal",
   "language": "python",
   "name": "python3"
  },
  "language_info": {
   "codemirror_mode": {
    "name": "ipython",
    "version": 3
   },
   "file_extension": ".py",
   "mimetype": "text/x-python",
   "name": "python",
   "nbconvert_exporter": "python",
   "pygments_lexer": "ipython3",
   "version": "3.10.12"
  }
 },
 "nbformat": 4,
 "nbformat_minor": 2
}
